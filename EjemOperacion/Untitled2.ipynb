{
  "nbformat": 4,
  "nbformat_minor": 0,
  "metadata": {
    "colab": {
      "provenance": [],
      "authorship_tag": "ABX9TyNzxLLXkSo0BvV/ol/Ymhqb",
      "include_colab_link": true
    },
    "kernelspec": {
      "name": "python3",
      "display_name": "Python 3"
    },
    "language_info": {
      "name": "python"
    }
  },
  "cells": [
    {
      "cell_type": "markdown",
      "metadata": {
        "id": "view-in-github",
        "colab_type": "text"
      },
      "source": [
        "<a href=\"https://colab.research.google.com/github/alejo94gf/0operaciones-matem-ticas-/blob/main/EjemOperacion/Untitled2.ipynb\" target=\"_parent\"><img src=\"https://colab.research.google.com/assets/colab-badge.svg\" alt=\"Open In Colab\"/></a>"
      ]
    },
    {
      "cell_type": "code",
      "execution_count": 1,
      "metadata": {
        "colab": {
          "base_uri": "https://localhost:8080/"
        },
        "id": "vGsZaopqhhBF",
        "outputId": "6eb2121c-5121-48d1-fd8b-a63a9f70ac26"
      },
      "outputs": [
        {
          "output_type": "stream",
          "name": "stdout",
          "text": [
            "Ingresa la base del rectángulo: 10\n",
            "Ingresa la altura del rectángulo: 4\n",
            "El área del rectángulo es: 40.0\n",
            "El perímetro del rectángulo es: 28.0\n"
          ]
        }
      ],
      "source": [
        "# 1. Pedimos al usuario la base y la altura del rectángulo\n",
        "base = float(input(\"Ingresa la base del rectángulo: \"))\n",
        "altura = float(input(\"Ingresa la altura del rectángulo: \"))\n",
        "\n",
        "# 2. Calculamos el área (fórmula: base * altura)\n",
        "area = base * altura\n",
        "\n",
        "# 3. Calculamos el perímetro (fórmula: 2 * (base + altura))\n",
        "perimetro = 2 * (base + altura)\n",
        "\n",
        "# 4. Mostramos los resultados en pantalla\n",
        "print(f\"El área del rectángulo es: {area}\")\n",
        "print(f\"El perímetro del rectángulo es: {perimetro}\")\n"
      ]
    }
  ]
}